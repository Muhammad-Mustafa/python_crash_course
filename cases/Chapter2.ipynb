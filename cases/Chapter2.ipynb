{
 "cells": [
  {
   "cell_type": "code",
   "execution_count": 1,
   "metadata": {},
   "outputs": [
    {
     "name": "stdout",
     "output_type": "stream",
     "text": [
      "Hello  Mustafa ,would you like to learn some Python today?\n"
     ]
    }
   ],
   "source": [
    "#2-3. Personal Message\n",
    "\n",
    "name =  input('What is your name: ')\n",
    "\n",
    "print(\"Hello \",name,\",would you like to learn some Python today?\")"
   ]
  },
  {
   "cell_type": "code",
   "execution_count": 2,
   "metadata": {},
   "outputs": [
    {
     "name": "stdout",
     "output_type": "stream",
     "text": [
      "Your name in Upper Case:  MUHAMMAD MUSTAFA\n",
      "Your name in Lower Case:  muhammad mustafa\n",
      "Your name in title Case:  Muhammad Mustafa\n"
     ]
    }
   ],
   "source": [
    "#2-4. Name Cases\n",
    "name =  input('What is your name: ')\n",
    "\n",
    "print(\"Your name in Upper Case: \", name.upper())\n",
    "print(\"Your name in Lower Case: \", name.lower())\n",
    "print(\"Your name in title Case: \", name.title())"
   ]
  },
  {
   "cell_type": "code",
   "execution_count": 3,
   "metadata": {},
   "outputs": [
    {
     "name": "stdout",
     "output_type": "stream",
     "text": [
      "Albert Einstein once said, “A person who never made a\n",
      "mistake never tried anything new.”\n"
     ]
    }
   ],
   "source": [
    "#2-5. Famous Quote: \n",
    "\n",
    "print('''Albert Einstein once said, “A person who never made a\n",
    "mistake never tried anything new.”''')"
   ]
  },
  {
   "cell_type": "code",
   "execution_count": 1,
   "metadata": {},
   "outputs": [
    {
     "name": "stdout",
     "output_type": "stream",
     "text": [
      "Albert Einstein once said, “A person who never made a\n",
      "mistake never tried anything new.” \n"
     ]
    }
   ],
   "source": [
    "#2-6. Famous Quote 2:\n",
    "quote = '''“A person who never made a\n",
    "mistake never tried anything new.” '''\n",
    "print('''Albert Einstein once said,''', quote)"
   ]
  },
  {
   "cell_type": "code",
   "execution_count": 5,
   "metadata": {},
   "outputs": [
    {
     "name": "stdout",
     "output_type": "stream",
     "text": [
      "Names with differenet strip functions \n",
      "\tName with lstrip():  Muhammad   Mustafa   \n",
      "\tName with rstrip():     Muhammad   Mustafa \n",
      "\tName  with strip():  Muhammad   Mustafa\n"
     ]
    }
   ],
   "source": [
    "#2-7. Stripping Names:\n",
    "\n",
    "name = '   Muhammad   Mustafa  '\n",
    "\n",
    "print('Names with differenet strip functions \\n\\tName with lstrip(): ', name.lstrip(), '\\n\\tName with rstrip(): ', name.rstrip(), '\\n\\tName  with strip(): ', name.strip())"
   ]
  },
  {
   "cell_type": "code",
   "execution_count": 8,
   "metadata": {},
   "outputs": [
    {
     "name": "stdout",
     "output_type": "stream",
     "text": [
      "\n",
      " 8 \n",
      " 8 \n",
      " 8 \n",
      " 8\n"
     ]
    }
   ],
   "source": [
    "#2-8. Number Eight:\n",
    "\n",
    "print('\\n',4+4,'\\n',12-4, '\\n', 4*2, '\\n', int(16/2), )"
   ]
  },
  {
   "cell_type": "code",
   "execution_count": 9,
   "metadata": {},
   "outputs": [
    {
     "name": "stdout",
     "output_type": "stream",
     "text": [
      "my favorite number is  55\n"
     ]
    }
   ],
   "source": [
    "#2-9. Favorite Number\n",
    "\n",
    "fav_number = 55\n",
    "\n",
    "print('my favorite number is ', fav_number)"
   ]
  },
  {
   "cell_type": "code",
   "execution_count": 10,
   "metadata": {},
   "outputs": [
    {
     "name": "stdout",
     "output_type": "stream",
     "text": [
      "The Zen of Python, by Tim Peters\n",
      "\n",
      "Beautiful is better than ugly.\n",
      "Explicit is better than implicit.\n",
      "Simple is better than complex.\n",
      "Complex is better than complicated.\n",
      "Flat is better than nested.\n",
      "Sparse is better than dense.\n",
      "Readability counts.\n",
      "Special cases aren't special enough to break the rules.\n",
      "Although practicality beats purity.\n",
      "Errors should never pass silently.\n",
      "Unless explicitly silenced.\n",
      "In the face of ambiguity, refuse the temptation to guess.\n",
      "There should be one-- and preferably only one --obvious way to do it.\n",
      "Although that way may not be obvious at first unless you're Dutch.\n",
      "Now is better than never.\n",
      "Although never is often better than *right* now.\n",
      "If the implementation is hard to explain, it's a bad idea.\n",
      "If the implementation is easy to explain, it may be a good idea.\n",
      "Namespaces are one honking great idea -- let's do more of those!\n"
     ]
    }
   ],
   "source": [
    "import this"
   ]
  }
 ],
 "metadata": {
  "interpreter": {
   "hash": "7288967d5f11ce47955d79338e5771b1b15cd7c8812840c62625f2f089f1b3af"
  },
  "kernelspec": {
   "display_name": "Python 3.10.4 64-bit",
   "language": "python",
   "name": "python3"
  },
  "language_info": {
   "codemirror_mode": {
    "name": "ipython",
    "version": 3
   },
   "file_extension": ".py",
   "mimetype": "text/x-python",
   "name": "python",
   "nbconvert_exporter": "python",
   "pygments_lexer": "ipython3",
   "version": "3.10.4"
  },
  "orig_nbformat": 4
 },
 "nbformat": 4,
 "nbformat_minor": 2
}
